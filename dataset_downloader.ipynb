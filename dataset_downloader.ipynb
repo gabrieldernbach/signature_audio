{
 "cells": [
  {
   "cell_type": "code",
   "execution_count": 15,
   "metadata": {},
   "outputs": [],
   "source": [
    "import os\n",
    "import urllib.request\n",
    "import tarfile\n",
    "\n",
    "# download the little endian version, as this is common wav format\n",
    "url = 'http://www.speech.cs.cmu.edu/databases/an4/an4_raw.littleendian.tar.gz'\n",
    "urllib.request.urlretrieve(url, 'An4.tar.gz');\n",
    "\n",
    "# unpack archive\n",
    "tar = tarfile.open(\"An4.tar.gz\")\n",
    "tar.extractall()\n",
    "tar.close()\n",
    "\n",
    "# clean up\n",
    "os.remove('An4.tar.gz')"
   ]
  }
 ],
 "metadata": {
  "kernelspec": {
   "display_name": "Python 3",
   "language": "python",
   "name": "python3"
  },
  "language_info": {
   "codemirror_mode": {
    "name": "ipython",
    "version": 3
   },
   "file_extension": ".py",
   "mimetype": "text/x-python",
   "name": "python",
   "nbconvert_exporter": "python",
   "pygments_lexer": "ipython3",
   "version": "3.7.0"
  }
 },
 "nbformat": 4,
 "nbformat_minor": 2
}
